{
 "cells": [
  {
   "cell_type": "code",
   "execution_count": null,
   "metadata": {},
   "outputs": [],
   "source": [
    "import argparse\n",
    "import numpy as np\n",
    "import os\n",
    "from sklearn.metrics import roc_curve, accuracy_score\n",
    "from tensorflow import argmax\n",
    "from sklearn.metrics import roc_curve\n",
    "import pickle\n",
    "\n",
    "from src.data.datagen import DataGenerator, load_dataset_to_generator, load_image_file_paths, generate_label_from_path\n",
    "from src.models.attention import attention_model\n",
    "\n",
    "def calculate_err(y, y_pred):\n",
    "    fpr, tpr, threshold = roc_curve(y, y_pred, pos_label=1)\n",
    "    fnr = 1 - tpr\n",
    "    id = np.nanargmin(np.absolute((fnr - fpr)))\n",
    "    return fpr[id], threshold[id]\n",
    "\n",
    "def eval():\n",
    "    args = parse_args()\n",
    "\n",
    "    batch_size = int(args.bs)\n",
    "    dim = int(args.dim)\n",
    "    weight_path = args.weight\n",
    "    num_classes = int(args.num_classes)\n",
    "\n",
    "    test_image_paths = load_image_file_paths(\"test\")\n",
    "    test_labels = generate_label_from_path(test_image_paths)\n",
    "    test_generator = DataGenerator(listIDs=test_image_paths, \n",
    "                                   labels=test_labels, \n",
    "                                   num_classes=num_classes, \n",
    "                                   batch_size=batch_size, \n",
    "                                   dim=(dim, dim), \n",
    "                                   type_gen='predict')\n",
    "\n",
    "    model = attention_model(num_classes, backbone=args.backbone, shape=(dim, dim, 3))\n",
    "    model.load_weights(weight_path)\n",
    "        \n",
    "    test_pred = None\n",
    "    if (num_classes == 1):\n",
    "        test_pred = model.predict(test_generator).flatten()\n",
    "    elif num_classes == 2:\n",
    "        test_pred = argmax(model.predict(test_generator), axis=1)\n",
    "\n",
    "    test_true = []\n",
    "    for path in test_image_paths:\n",
    "        test_true.append(int(os.path.basename(os.path.dirname(path)) == 'real'))\n",
    "\n",
    "    with open(\"result.pickle\", \"wb\") as f:\n",
    "        pickle.dump([test_true, test_pred], f)\n",
    "\n",
    "    print(calculate_err(test_true, test_pred))\n"
   ]
  }
 ],
 "metadata": {
  "kernelspec": {
   "display_name": "fsd",
   "language": "python",
   "name": "python3"
  },
  "language_info": {
   "name": "python",
   "version": "3.8.13"
  },
  "orig_nbformat": 4
 },
 "nbformat": 4,
 "nbformat_minor": 2
}
